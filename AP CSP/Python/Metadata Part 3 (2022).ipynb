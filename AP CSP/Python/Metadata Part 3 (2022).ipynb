{
 "cells": [
  {
   "cell_type": "markdown",
   "metadata": {},
   "source": [
    "# <u>Data, Metadata and APIs</u>\n",
    "# <u>Part 3: Viewing Metadata in Image Files</u>\n",
    "\n",
    "As we already mentioned, every bitmap starts with a 54-byte header. This header encodes information about the file. Every bitmap identifies itself by reserving the first two bytes of the header for the ASCII-encoded letters \"BM\". As you can see from this ASCII table (http://www.ascii-code.com/), the letter \"B\" corresponds to the integer 66, and the letter \"M\" corresponds to the integer 77. Here are the first two bytes of our bitmap expressed as integers:"
   ]
  },
  {
   "cell_type": "code",
   "execution_count": 1,
   "metadata": {},
   "outputs": [
    {
     "name": "stdout",
     "output_type": "stream",
     "text": [
      "66 77\n"
     ]
    }
   ],
   "source": [
    "with open(\"flowers.bmp\", 'rb') as original_image:\n",
    "    original_data = original_image.read()\n",
    "    original_bytes = bytearray(original_data)\n",
    "    \n",
    "print(str(original_bytes[0]) + \" \" + str(original_bytes[1]))"
   ]
  },
  {
   "cell_type": "markdown",
   "metadata": {},
   "source": [
    "While the two numbers above are in base 10, a byte is often expressed as two hexadecimal digits. You can again reference the ASCII table (http://www.ascii-code.com/) to see that 66 in base 10 (decimal) is the same as \"42\" in hexadecimal. Likewise, 77 in base 10 is \"4d\" in hex. This time, let's extract the first two bytes of our header in hex:\n",
    "\n"
   ]
  },
  {
   "cell_type": "code",
   "execution_count": 2,
   "metadata": {},
   "outputs": [
    {
     "name": "stdout",
     "output_type": "stream",
     "text": [
      "0x42 0x4d\n"
     ]
    }
   ],
   "source": [
    "print(str(hex(original_bytes[0])) + \" \" + str(hex(original_bytes[1])))"
   ]
  },
  {
   "cell_type": "markdown",
   "metadata": {},
   "source": [
    "The \"0x\" at the beginning of each of the numbers below is meant to communicate a base 16 number (\"x\" for \"hex\"). \n",
    "\n",
    "Either way, the first two bytes of every bitmap are meant to represent the letters \"B\" and \"M\" using the ASCII encoding. Here are the first two bytes of our header one last time (this time representing them as letters from the ASCII encoding):"
   ]
  },
  {
   "cell_type": "code",
   "execution_count": 3,
   "metadata": {},
   "outputs": [
    {
     "name": "stdout",
     "output_type": "stream",
     "text": [
      "BM\n"
     ]
    }
   ],
   "source": [
    "first_byte = bytes([original_bytes[0]])\n",
    "second_byte = bytes([original_bytes[1]])\n",
    "\n",
    "print(str(first_byte.decode(\"ascii\")) + str(second_byte.decode(\"ascii\")))"
   ]
  },
  {
   "cell_type": "markdown",
   "metadata": {},
   "source": [
    "### <u>Task #1: Answer the following questions</u>"
   ]
  },
  {
   "cell_type": "markdown",
   "metadata": {},
   "source": [
    "**<u>Question 1:</u>** What are the first two bytes of our bitmap in binary? Use the _bin()_ method to complete this task.\n",
    "    \n",
    "**<u>Your Answer:</u>**"
   ]
  },
  {
   "cell_type": "code",
   "execution_count": 12,
   "metadata": {},
   "outputs": [
    {
     "name": "stdout",
     "output_type": "stream",
     "text": [
      "0b1000010 0b1001101\n"
     ]
    }
   ],
   "source": [
    "# finds the first two bytes of our bitmap in binary\n",
    "first_byte_binary = bin(original_bytes[0])\n",
    "second_byte_binary = bin(original_bytes[1])\n",
    "\n",
    "print(first_byte_binary + \" \" + second_byte_binary)"
   ]
  },
  {
   "cell_type": "markdown",
   "metadata": {},
   "source": [
    "**<u>Question 2:</u>** What does the \"0b\" at the beginning of each number represent in the cell above?\n",
    "\n",
    "**<u>Your Answer:</u>** the 0b is meant to communicate to the computer that the bytes are in binary"
   ]
  },
  {
   "cell_type": "markdown",
   "metadata": {},
   "source": [
    "**<u>Question 3:</u>** How many \"0\"s and \"1\"s follow the \"0b\"? Based on your knowledge of bits and bytes, why does this make sense?\n",
    "\n",
    "**<u>Your Answer:</u>** For the first byte theres two 1's and five 0's and the second byte theres four 1's and three 0's which makes sense because the amount of numbers binary can go (7) is why theres only 7 following the 0b."
   ]
  },
  {
   "cell_type": "markdown",
   "metadata": {},
   "source": [
    "### <u>Bitmap Metadata</u>\n",
    "\n",
    "A bitmap is a pretty barebones file format. The data in the 54-byte bitmap header stores information about the image file itself such as the size of the file in bytes, the width/height of the image, and the colors contained within it. But that's about it. For example, here's some code that can find the width and height of a bitmap image by reading the appropriate bytes in the header:"
   ]
  },
  {
   "cell_type": "code",
   "execution_count": 15,
   "metadata": {},
   "outputs": [
    {
     "name": "stdout",
     "output_type": "stream",
     "text": [
      "[360, 480]\n"
     ]
    }
   ],
   "source": [
    "with open(\"flowers.bmp\", 'rb') as original_image:\n",
    "    original_image.seek(18)\n",
    "    bytes_width = original_image.read(4)\n",
    "    width = int.from_bytes(bytes_width, byteorder='little')\n",
    "    original_image.seek(22)\n",
    "    bytes_height = original_image.read(4)\n",
    "    height = int.from_bytes(bytes_height, byteorder='little')\n",
    "    print([width,height])"
   ]
  },
  {
   "cell_type": "markdown",
   "metadata": {},
   "source": [
    "This image is 360 pixels by 480 pixels. There are a limited number of additional details about your bitmap stored in the header (to learn more, check out the following: http://www.fastgraph.com/help/bmp_header_format.html). But if you want to use the header of this bitmap to learn things such as where the photograph was taken, who owns the copyright to the photograph, etc., then you are fresh out of luck.\n",
    "\n",
    "However, some other image file formats have the ability to store \"metadata\" This can include what kind of camera was used to take the photo, the date/time the photo was taken, the author, and much more. In fact, the _.bmp_ file we are working with in this exercise originally came from a _.jpg_ file that had metadata in it. \n",
    "\n",
    "Let's switch gears to _.jpg_ files:"
   ]
  },
  {
   "cell_type": "markdown",
   "metadata": {},
   "source": [
    "### <u>Review of the JPEG Image File Format</u>\n",
    "\n",
    "The _.jpg_ file format utilizes a lossy compression algorithm. This does does exactly what it sounds like: information that was stored in the original, uncompressed file is lost when you use lossy compression. The benefit of lossy compression is that the compressed file size can be much smaller than the original.\n",
    "\n",
    "Ideally, a lossy compression algorithm discards information that was difficult (or impossible) for humans to notice. For an image, this would be color data or detail that the human eye can't detect. When compression goes too far in a _.jpg_ file, you can often spot what what is \"lost\" in the form of noticeable visual artifacts. \n",
    "\n",
    "Let's compare the size of the _.bmp_ version of the flower vase and the _.jpg_ version."
   ]
  },
  {
   "cell_type": "markdown",
   "metadata": {},
   "source": [
    "First, the uncompressed *.bmp*:"
   ]
  },
  {
   "cell_type": "code",
   "execution_count": 16,
   "metadata": {},
   "outputs": [
    {
     "name": "stdout",
     "output_type": "stream",
     "text": [
      "518456\n"
     ]
    }
   ],
   "source": [
    "with open(\"flowers.bmp\", 'rb') as original_image:\n",
    "    original_data = original_image.read()\n",
    "    original_bytes = bytearray(original_data)\n",
    "\n",
    "print(len(original_bytes))"
   ]
  },
  {
   "cell_type": "markdown",
   "metadata": {},
   "source": [
    "Now the compressed *.jpg*: "
   ]
  },
  {
   "cell_type": "code",
   "execution_count": 17,
   "metadata": {},
   "outputs": [
    {
     "name": "stdout",
     "output_type": "stream",
     "text": [
      "296881\n"
     ]
    }
   ],
   "source": [
    "with open(\"flowers_metadata.jpg\", 'rb') as jpeg_image:\n",
    "    jpeg_data = jpeg_image.read()\n",
    "    jpeg_bytes = bytearray(jpeg_data)\n",
    "\n",
    "print(len(jpeg_bytes))"
   ]
  },
  {
   "cell_type": "markdown",
   "metadata": {},
   "source": [
    "518,456 bytes for an uncompressed bitmap, and 296,881 bytes for a compressed JPEG."
   ]
  },
  {
   "cell_type": "markdown",
   "metadata": {},
   "source": [
    "### Task #2: Write code below to display the bitmap and the JPEG in this notebook:"
   ]
  },
  {
   "cell_type": "code",
   "execution_count": null,
   "metadata": {
    "collapsed": true
   },
   "outputs": [],
   "source": [
    "# Code to display bitmap:\n",
    "\n",
    "# Summary: Reads a file header and list of pixels (RGB triples) and returns a bitmap byte array\n",
    "# Parameters: The 1st parameter is the bitmap file header and the 2nd parameter is a list of pixels (RGB triples)\n",
    "# Return: A bitmap byte array\n",
    "\n",
    "def pixels_to_bitmap(header,pixel_list):\n",
    "    byte_array = header\n",
    "    number_of_pixels = len(pixel_list)\n",
    "    for i in range(number_of_pixels):\n",
    "        r, g, b = pixel_list[i][0], pixel_list[i][1], pixel_list[i][2]\n",
    "        byte_array.append(b)\n",
    "        byte_array.append(g)\n",
    "        byte_array.append(r)\n",
    "    return byte_array\n"
   ]
  },
  {
   "cell_type": "code",
   "execution_count": 18,
   "metadata": {},
   "outputs": [
    {
     "ename": "FileNotFoundError",
     "evalue": "[Errno 2] No such file or directory: 'output/flowers_metadata.jpg'",
     "output_type": "error",
     "traceback": [
      "\u001b[1;31m---------------------------------------------------------------------------\u001b[0m",
      "\u001b[1;31mFileNotFoundError\u001b[0m                         Traceback (most recent call last)",
      "\u001b[1;32m<ipython-input-18-d569bbe2ae82>\u001b[0m in \u001b[0;36m<module>\u001b[1;34m\u001b[0m\n\u001b[0;32m      1\u001b[0m \u001b[1;31m# Code to display JPEG:\u001b[0m\u001b[1;33m\u001b[0m\u001b[1;33m\u001b[0m\u001b[1;33m\u001b[0m\u001b[0m\n\u001b[0;32m      2\u001b[0m \u001b[1;32mfrom\u001b[0m \u001b[0mIPython\u001b[0m\u001b[1;33m.\u001b[0m\u001b[0mdisplay\u001b[0m \u001b[1;32mimport\u001b[0m \u001b[0mImage\u001b[0m\u001b[1;33m\u001b[0m\u001b[1;33m\u001b[0m\u001b[0m\n\u001b[1;32m----> 3\u001b[1;33m \u001b[0mImage\u001b[0m\u001b[1;33m(\u001b[0m\u001b[0mfilename\u001b[0m\u001b[1;33m=\u001b[0m\u001b[1;34m\"output/flowers_metadata.jpg\"\u001b[0m\u001b[1;33m)\u001b[0m\u001b[1;33m\u001b[0m\u001b[1;33m\u001b[0m\u001b[0m\n\u001b[0m",
      "\u001b[1;32mC:\\ProgramData\\Anaconda3\\lib\\site-packages\\IPython\\core\\display.py\u001b[0m in \u001b[0;36m__init__\u001b[1;34m(self, data, url, filename, format, embed, width, height, retina, unconfined, metadata)\u001b[0m\n\u001b[0;32m   1195\u001b[0m         \u001b[0mself\u001b[0m\u001b[1;33m.\u001b[0m\u001b[0munconfined\u001b[0m \u001b[1;33m=\u001b[0m \u001b[0munconfined\u001b[0m\u001b[1;33m\u001b[0m\u001b[1;33m\u001b[0m\u001b[0m\n\u001b[0;32m   1196\u001b[0m         super(Image, self).__init__(data=data, url=url, filename=filename, \n\u001b[1;32m-> 1197\u001b[1;33m                 metadata=metadata)\n\u001b[0m\u001b[0;32m   1198\u001b[0m \u001b[1;33m\u001b[0m\u001b[0m\n\u001b[0;32m   1199\u001b[0m         \u001b[1;32mif\u001b[0m \u001b[0mself\u001b[0m\u001b[1;33m.\u001b[0m\u001b[0mwidth\u001b[0m \u001b[1;32mis\u001b[0m \u001b[1;32mNone\u001b[0m \u001b[1;32mand\u001b[0m \u001b[0mself\u001b[0m\u001b[1;33m.\u001b[0m\u001b[0mmetadata\u001b[0m\u001b[1;33m.\u001b[0m\u001b[0mget\u001b[0m\u001b[1;33m(\u001b[0m\u001b[1;34m'width'\u001b[0m\u001b[1;33m,\u001b[0m \u001b[1;33m{\u001b[0m\u001b[1;33m}\u001b[0m\u001b[1;33m)\u001b[0m\u001b[1;33m:\u001b[0m\u001b[1;33m\u001b[0m\u001b[1;33m\u001b[0m\u001b[0m\n",
      "\u001b[1;32mC:\\ProgramData\\Anaconda3\\lib\\site-packages\\IPython\\core\\display.py\u001b[0m in \u001b[0;36m__init__\u001b[1;34m(self, data, url, filename, metadata)\u001b[0m\n\u001b[0;32m    618\u001b[0m             \u001b[0mself\u001b[0m\u001b[1;33m.\u001b[0m\u001b[0mmetadata\u001b[0m \u001b[1;33m=\u001b[0m \u001b[1;33m{\u001b[0m\u001b[1;33m}\u001b[0m\u001b[1;33m\u001b[0m\u001b[1;33m\u001b[0m\u001b[0m\n\u001b[0;32m    619\u001b[0m \u001b[1;33m\u001b[0m\u001b[0m\n\u001b[1;32m--> 620\u001b[1;33m         \u001b[0mself\u001b[0m\u001b[1;33m.\u001b[0m\u001b[0mreload\u001b[0m\u001b[1;33m(\u001b[0m\u001b[1;33m)\u001b[0m\u001b[1;33m\u001b[0m\u001b[1;33m\u001b[0m\u001b[0m\n\u001b[0m\u001b[0;32m    621\u001b[0m         \u001b[0mself\u001b[0m\u001b[1;33m.\u001b[0m\u001b[0m_check_data\u001b[0m\u001b[1;33m(\u001b[0m\u001b[1;33m)\u001b[0m\u001b[1;33m\u001b[0m\u001b[1;33m\u001b[0m\u001b[0m\n\u001b[0;32m    622\u001b[0m \u001b[1;33m\u001b[0m\u001b[0m\n",
      "\u001b[1;32mC:\\ProgramData\\Anaconda3\\lib\\site-packages\\IPython\\core\\display.py\u001b[0m in \u001b[0;36mreload\u001b[1;34m(self)\u001b[0m\n\u001b[0;32m   1226\u001b[0m         \u001b[1;34m\"\"\"Reload the raw data from file or URL.\"\"\"\u001b[0m\u001b[1;33m\u001b[0m\u001b[1;33m\u001b[0m\u001b[0m\n\u001b[0;32m   1227\u001b[0m         \u001b[1;32mif\u001b[0m \u001b[0mself\u001b[0m\u001b[1;33m.\u001b[0m\u001b[0membed\u001b[0m\u001b[1;33m:\u001b[0m\u001b[1;33m\u001b[0m\u001b[1;33m\u001b[0m\u001b[0m\n\u001b[1;32m-> 1228\u001b[1;33m             \u001b[0msuper\u001b[0m\u001b[1;33m(\u001b[0m\u001b[0mImage\u001b[0m\u001b[1;33m,\u001b[0m\u001b[0mself\u001b[0m\u001b[1;33m)\u001b[0m\u001b[1;33m.\u001b[0m\u001b[0mreload\u001b[0m\u001b[1;33m(\u001b[0m\u001b[1;33m)\u001b[0m\u001b[1;33m\u001b[0m\u001b[1;33m\u001b[0m\u001b[0m\n\u001b[0m\u001b[0;32m   1229\u001b[0m             \u001b[1;32mif\u001b[0m \u001b[0mself\u001b[0m\u001b[1;33m.\u001b[0m\u001b[0mretina\u001b[0m\u001b[1;33m:\u001b[0m\u001b[1;33m\u001b[0m\u001b[1;33m\u001b[0m\u001b[0m\n\u001b[0;32m   1230\u001b[0m                 \u001b[0mself\u001b[0m\u001b[1;33m.\u001b[0m\u001b[0m_retina_shape\u001b[0m\u001b[1;33m(\u001b[0m\u001b[1;33m)\u001b[0m\u001b[1;33m\u001b[0m\u001b[1;33m\u001b[0m\u001b[0m\n",
      "\u001b[1;32mC:\\ProgramData\\Anaconda3\\lib\\site-packages\\IPython\\core\\display.py\u001b[0m in \u001b[0;36mreload\u001b[1;34m(self)\u001b[0m\n\u001b[0;32m    643\u001b[0m         \u001b[1;34m\"\"\"Reload the raw data from file or URL.\"\"\"\u001b[0m\u001b[1;33m\u001b[0m\u001b[1;33m\u001b[0m\u001b[0m\n\u001b[0;32m    644\u001b[0m         \u001b[1;32mif\u001b[0m \u001b[0mself\u001b[0m\u001b[1;33m.\u001b[0m\u001b[0mfilename\u001b[0m \u001b[1;32mis\u001b[0m \u001b[1;32mnot\u001b[0m \u001b[1;32mNone\u001b[0m\u001b[1;33m:\u001b[0m\u001b[1;33m\u001b[0m\u001b[1;33m\u001b[0m\u001b[0m\n\u001b[1;32m--> 645\u001b[1;33m             \u001b[1;32mwith\u001b[0m \u001b[0mopen\u001b[0m\u001b[1;33m(\u001b[0m\u001b[0mself\u001b[0m\u001b[1;33m.\u001b[0m\u001b[0mfilename\u001b[0m\u001b[1;33m,\u001b[0m \u001b[0mself\u001b[0m\u001b[1;33m.\u001b[0m\u001b[0m_read_flags\u001b[0m\u001b[1;33m)\u001b[0m \u001b[1;32mas\u001b[0m \u001b[0mf\u001b[0m\u001b[1;33m:\u001b[0m\u001b[1;33m\u001b[0m\u001b[1;33m\u001b[0m\u001b[0m\n\u001b[0m\u001b[0;32m    646\u001b[0m                 \u001b[0mself\u001b[0m\u001b[1;33m.\u001b[0m\u001b[0mdata\u001b[0m \u001b[1;33m=\u001b[0m \u001b[0mf\u001b[0m\u001b[1;33m.\u001b[0m\u001b[0mread\u001b[0m\u001b[1;33m(\u001b[0m\u001b[1;33m)\u001b[0m\u001b[1;33m\u001b[0m\u001b[1;33m\u001b[0m\u001b[0m\n\u001b[0;32m    647\u001b[0m         \u001b[1;32melif\u001b[0m \u001b[0mself\u001b[0m\u001b[1;33m.\u001b[0m\u001b[0murl\u001b[0m \u001b[1;32mis\u001b[0m \u001b[1;32mnot\u001b[0m \u001b[1;32mNone\u001b[0m\u001b[1;33m:\u001b[0m\u001b[1;33m\u001b[0m\u001b[1;33m\u001b[0m\u001b[0m\n",
      "\u001b[1;31mFileNotFoundError\u001b[0m: [Errno 2] No such file or directory: 'output/flowers_metadata.jpg'"
     ]
    }
   ],
   "source": [
    "# Code to display JPEG:\n",
    "from IPython.display import Image\n",
    "Image(filename=\"output/flowers_metadata.jpg\")"
   ]
  },
  {
   "cell_type": "markdown",
   "metadata": {},
   "source": [
    "**<u>Question 4:</u>** Can you tell the difference between the bitmap and the JPEG? Explain.\n",
    "\n",
    "**<u>Your Answer:</u>**"
   ]
  },
  {
   "cell_type": "markdown",
   "metadata": {},
   "source": [
    "### <u>Metadata in the JPEG Image File Format</u>\n",
    "\n",
    "The _.jpg_ file format can store much more metadata than the _.bmp_ file format. Let's see what we can find in _flowers.jpg_.\n",
    "\n",
    "*Note: The code cell below is cheating a little bit. The author of this notebook previously analyzed the file to see where to look for some interesting metadata. This code extracts raw bytes from the .jpg file and converts them to a list of characters:*"
   ]
  },
  {
   "cell_type": "code",
   "execution_count": null,
   "metadata": {
    "collapsed": true
   },
   "outputs": [],
   "source": [
    "brand_array = []\n",
    "model_array = []\n",
    "date_array = []\n",
    "author_array = []\n",
    "\n",
    "for i in range(164,173):\n",
    "    brand_array.append(chr(jpeg_bytes[i]))\n",
    "\n",
    "for i in range(174,183):\n",
    "    model_array.append(chr(jpeg_bytes[i]))\n",
    "    \n",
    "for i in range(380,399):\n",
    "    date_array.append(chr(jpeg_bytes[i]))\n",
    "    \n",
    "for i in range(248,261):\n",
    "    author_array.append(chr(jpeg_bytes[i]))\n",
    "    \n",
    "print(brand_array) \n",
    "print(model_array)\n",
    "print(date_array)\n",
    "print(author_array)"
   ]
  },
  {
   "cell_type": "markdown",
   "metadata": {},
   "source": [
    "This file clearly contains more than just raw image data. Raw image data would look completely unintelligible if we tried to convert bytes to ASCII characters. Here's the same extracted data from above, but formatted in a more readable fashion: "
   ]
  },
  {
   "cell_type": "code",
   "execution_count": null,
   "metadata": {
    "collapsed": true
   },
   "outputs": [],
   "source": [
    "print(''.join(brand_array) + ' ' + ''.join(model_array) + ' ' + ''.join(date_array) + ' ' + ''.join(author_array))"
   ]
  },
  {
   "cell_type": "markdown",
   "metadata": {},
   "source": [
    "The metadata in this file tells us that the photograph was taken on a Panasonic DMC-FZ200 camera on July 25, 2016 at 2:02pm by a photographer named Jakob Strauss. This file gave up a lot of information about its origins, and this isn't even the full extent of what can be stored as metadata!"
   ]
  },
  {
   "cell_type": "markdown",
   "metadata": {},
   "source": [
    "### <u>Task #3: Research the term \"metadata\" online, then answer the questions below:</u>"
   ]
  },
  {
   "cell_type": "markdown",
   "metadata": {},
   "source": [
    "**<u>Question 5:</u>** In your own words, what is your definition of the term \"metadata\"?\n",
    "\n",
    "**<u>Your Answer:</u>**"
   ]
  },
  {
   "cell_type": "markdown",
   "metadata": {},
   "source": [
    "**<u>Question 6:</u>** What are some examples of file formats that can store metadata? Your answer should not be limited to image file formats.\n",
    "\n",
    "**<u>Your Answer:</u>**"
   ]
  },
  {
   "cell_type": "markdown",
   "metadata": {},
   "source": [
    "**<u>Question 7:</u>** What kind of information is commonly included as metadata? Make sure to include information not already discovered in our _.jpg_ file.\n",
    "\n",
    "**<u>Your Answer:</u>**"
   ]
  },
  {
   "cell_type": "markdown",
   "metadata": {},
   "source": [
    "**<u>Question 8:</u>** What are some practical uses for metadata? Answer this same question a few times from the perspectives of several different perspectives:\n",
    "\n",
    "  * <u>A typical consumer:</u>\n",
    "\n",
    "  * <u>An advertising company:</u>\n",
    "\n",
    "  * <u>A law enforcement agency:</u>\n",
    "\n",
    "  * <u>You:</u>"
   ]
  },
  {
   "cell_type": "markdown",
   "metadata": {},
   "source": [
    "**<u>Question 9:</u>** What are some ethical and/or privacy concerns relevant to metadata?\n",
    "\n",
    "**<u>Your Answer:</u>**"
   ]
  },
  {
   "cell_type": "markdown",
   "metadata": {},
   "source": [
    "**<u>Question 10:</u>** Can you find the word \"Adobe Photoshop\" somewhere between indices 100 to 350 in the jpeg_bytes array?.  Adjust your loop accordingly so that only \"Adobe Photoshop\" prints below:\n",
    "\n",
    "**<u>Your Answer:</u>**"
   ]
  },
  {
   "cell_type": "code",
   "execution_count": null,
   "metadata": {
    "collapsed": true
   },
   "outputs": [],
   "source": [
    "# Your code here\n"
   ]
  },
  {
   "cell_type": "markdown",
   "metadata": {},
   "source": [
    "**<u>Question 11:</u>** Search for metadata in a photo you have taken, either with your phone or iPad. Display your photo in the notebook below, and at least one interesting piece of information you have found in its metadata.\n",
    "\n",
    "**<u>Summarize Your Discoveries:</u>**"
   ]
  },
  {
   "cell_type": "code",
   "execution_count": null,
   "metadata": {
    "collapsed": true
   },
   "outputs": [],
   "source": [
    "# Your code here to display the image\n"
   ]
  },
  {
   "cell_type": "code",
   "execution_count": null,
   "metadata": {},
   "outputs": [],
   "source": [
    "# Your code here to display metadata information\n"
   ]
  }
 ],
 "metadata": {
  "kernelspec": {
   "display_name": "Python 3",
   "language": "python",
   "name": "python3"
  },
  "language_info": {
   "codemirror_mode": {
    "name": "ipython",
    "version": 3
   },
   "file_extension": ".py",
   "mimetype": "text/x-python",
   "name": "python",
   "nbconvert_exporter": "python",
   "pygments_lexer": "ipython3",
   "version": "3.7.4"
  }
 },
 "nbformat": 4,
 "nbformat_minor": 1
}
