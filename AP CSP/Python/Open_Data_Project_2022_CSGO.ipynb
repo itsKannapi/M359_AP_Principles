{
 "cells": [
  {
   "cell_type": "markdown",
   "metadata": {},
   "source": [
    "# Open Data Project: ENTER TITLE HERE\n",
    "\n",
    "Name: Joey Tamondong\n",
    "\n",
    "Date: 4/20/22\n",
    "\n",
    "Source for Data Set: Kaggle: SAURABH PATRA\n",
    "\n",
    "URL for Data Set: https://www.kaggle.com/datasets/patrasaurabh/csgo-player-and-team-stats?resource=download\n",
    "\n",
    "Description of Data Set: \n",
    "*This dataset is the professtional player statistics for the FPS game: Counter Strike: Global Offensive. This data sets accounts for their in game name (ign), the country they are from, the teams they are currently playing or have played in the past, total maps they have played, total rounds they have played, they kill/death ratio and their HLTV rating. \n",
    "\n",
    "File Format for Data Set: .csv\n",
    "\n",
    "Last Updated: 4/20/22 11:43pm "
   ]
  },
  {
   "cell_type": "markdown",
   "metadata": {},
   "source": [
    "# Part 1: Import and Trim Data (12 points)\n",
    "* Import file as a pandas dataframe\n",
    "* Display size of data\n",
    "* Create a numerical pandas series\n",
    "* Convert series data type to floating point numbers\n",
    "* Convert series to a numpy array, remove 'NaN' entries\n",
    "* Compute three common statistics"
   ]
  },
  {
   "cell_type": "markdown",
   "metadata": {},
   "source": [
    "### Import file as a pandas data frame\n",
    "* Store in an appropriately-named variable\n",
    "* Show the first 10 entries:\n",
    "    * This is a good way for you to see if your modification was successful and to see what the data looks like in your data set."
   ]
  },
  {
   "cell_type": "code",
   "execution_count": 1,
   "metadata": {},
   "outputs": [
    {
     "data": {
      "text/html": [
       "<div>\n",
       "<style scoped>\n",
       "    .dataframe tbody tr th:only-of-type {\n",
       "        vertical-align: middle;\n",
       "    }\n",
       "\n",
       "    .dataframe tbody tr th {\n",
       "        vertical-align: top;\n",
       "    }\n",
       "\n",
       "    .dataframe thead th {\n",
       "        text-align: right;\n",
       "    }\n",
       "</style>\n",
       "<table border=\"1\" class=\"dataframe\">\n",
       "  <thead>\n",
       "    <tr style=\"text-align: right;\">\n",
       "      <th></th>\n",
       "      <th>Unnamed: 0</th>\n",
       "      <th>name</th>\n",
       "      <th>country</th>\n",
       "      <th>teams</th>\n",
       "      <th>total_maps</th>\n",
       "      <th>total_rounds</th>\n",
       "      <th>kd_diff</th>\n",
       "      <th>kd</th>\n",
       "      <th>rating</th>\n",
       "    </tr>\n",
       "  </thead>\n",
       "  <tbody>\n",
       "    <tr>\n",
       "      <td>0</td>\n",
       "      <td>0</td>\n",
       "      <td>ZywOo</td>\n",
       "      <td>France</td>\n",
       "      <td>['Vitality', 'aAa']</td>\n",
       "      <td>854</td>\n",
       "      <td>22399</td>\n",
       "      <td>5248</td>\n",
       "      <td>1.38</td>\n",
       "      <td>1.28</td>\n",
       "    </tr>\n",
       "    <tr>\n",
       "      <td>1</td>\n",
       "      <td>1</td>\n",
       "      <td>s1mple</td>\n",
       "      <td>Ukraine</td>\n",
       "      <td>['Natus Vincere', 'FlipSid3']</td>\n",
       "      <td>1429</td>\n",
       "      <td>37717</td>\n",
       "      <td>8070</td>\n",
       "      <td>1.33</td>\n",
       "      <td>1.25</td>\n",
       "    </tr>\n",
       "    <tr>\n",
       "      <td>2</td>\n",
       "      <td>2</td>\n",
       "      <td>deko</td>\n",
       "      <td>Russia</td>\n",
       "      <td>['1WIN']</td>\n",
       "      <td>190</td>\n",
       "      <td>5096</td>\n",
       "      <td>1250</td>\n",
       "      <td>1.42</td>\n",
       "      <td>1.24</td>\n",
       "    </tr>\n",
       "    <tr>\n",
       "      <td>3</td>\n",
       "      <td>3</td>\n",
       "      <td>saffee</td>\n",
       "      <td>Brazil</td>\n",
       "      <td>['paiN']</td>\n",
       "      <td>202</td>\n",
       "      <td>5383</td>\n",
       "      <td>1211</td>\n",
       "      <td>1.37</td>\n",
       "      <td>1.24</td>\n",
       "    </tr>\n",
       "    <tr>\n",
       "      <td>4</td>\n",
       "      <td>4</td>\n",
       "      <td>sh1ro</td>\n",
       "      <td>Russia</td>\n",
       "      <td>['Gambit', 'Gambit Youngsters']</td>\n",
       "      <td>744</td>\n",
       "      <td>19780</td>\n",
       "      <td>4593</td>\n",
       "      <td>1.43</td>\n",
       "      <td>1.22</td>\n",
       "    </tr>\n",
       "    <tr>\n",
       "      <td>5</td>\n",
       "      <td>5</td>\n",
       "      <td>m0NESY</td>\n",
       "      <td>Russia</td>\n",
       "      <td>['NAVI Junior']</td>\n",
       "      <td>144</td>\n",
       "      <td>3687</td>\n",
       "      <td>709</td>\n",
       "      <td>1.31</td>\n",
       "      <td>1.21</td>\n",
       "    </tr>\n",
       "    <tr>\n",
       "      <td>6</td>\n",
       "      <td>6</td>\n",
       "      <td>Kaze</td>\n",
       "      <td>Malaysia</td>\n",
       "      <td>['ViCi', 'Flash', 'MVP.karnal']</td>\n",
       "      <td>784</td>\n",
       "      <td>20459</td>\n",
       "      <td>3900</td>\n",
       "      <td>1.32</td>\n",
       "      <td>1.20</td>\n",
       "    </tr>\n",
       "    <tr>\n",
       "      <td>7</td>\n",
       "      <td>7</td>\n",
       "      <td>degster</td>\n",
       "      <td>Russia</td>\n",
       "      <td>['Spirit', 'Spirit', 'Espada']</td>\n",
       "      <td>555</td>\n",
       "      <td>14868</td>\n",
       "      <td>2745</td>\n",
       "      <td>1.31</td>\n",
       "      <td>1.19</td>\n",
       "    </tr>\n",
       "    <tr>\n",
       "      <td>8</td>\n",
       "      <td>8</td>\n",
       "      <td>sterling</td>\n",
       "      <td>New Zealand</td>\n",
       "      <td>['AVANT', 'Dire Wolves', 'Grayhound', 'Legacy'...</td>\n",
       "      <td>702</td>\n",
       "      <td>18010</td>\n",
       "      <td>3532</td>\n",
       "      <td>1.33</td>\n",
       "      <td>1.19</td>\n",
       "    </tr>\n",
       "    <tr>\n",
       "      <td>9</td>\n",
       "      <td>9</td>\n",
       "      <td>d4v41</td>\n",
       "      <td>Malaysia</td>\n",
       "      <td>['BOOT', 'FrostFire', 'Fire Dragoon', 'BOOT-d[...</td>\n",
       "      <td>308</td>\n",
       "      <td>8005</td>\n",
       "      <td>1358</td>\n",
       "      <td>1.27</td>\n",
       "      <td>1.18</td>\n",
       "    </tr>\n",
       "  </tbody>\n",
       "</table>\n",
       "</div>"
      ],
      "text/plain": [
       "   Unnamed: 0      name      country  \\\n",
       "0           0     ZywOo       France   \n",
       "1           1    s1mple      Ukraine   \n",
       "2           2      deko       Russia   \n",
       "3           3    saffee       Brazil   \n",
       "4           4     sh1ro       Russia   \n",
       "5           5    m0NESY       Russia   \n",
       "6           6      Kaze     Malaysia   \n",
       "7           7   degster       Russia   \n",
       "8           8  sterling  New Zealand   \n",
       "9           9     d4v41     Malaysia   \n",
       "\n",
       "                                               teams  total_maps  \\\n",
       "0                                ['Vitality', 'aAa']         854   \n",
       "1                      ['Natus Vincere', 'FlipSid3']        1429   \n",
       "2                                           ['1WIN']         190   \n",
       "3                                           ['paiN']         202   \n",
       "4                    ['Gambit', 'Gambit Youngsters']         744   \n",
       "5                                    ['NAVI Junior']         144   \n",
       "6                    ['ViCi', 'Flash', 'MVP.karnal']         784   \n",
       "7                     ['Spirit', 'Spirit', 'Espada']         555   \n",
       "8  ['AVANT', 'Dire Wolves', 'Grayhound', 'Legacy'...         702   \n",
       "9  ['BOOT', 'FrostFire', 'Fire Dragoon', 'BOOT-d[...         308   \n",
       "\n",
       "   total_rounds  kd_diff    kd  rating  \n",
       "0         22399     5248  1.38    1.28  \n",
       "1         37717     8070  1.33    1.25  \n",
       "2          5096     1250  1.42    1.24  \n",
       "3          5383     1211  1.37    1.24  \n",
       "4         19780     4593  1.43    1.22  \n",
       "5          3687      709  1.31    1.21  \n",
       "6         20459     3900  1.32    1.20  \n",
       "7         14868     2745  1.31    1.19  \n",
       "8         18010     3532  1.33    1.19  \n",
       "9          8005     1358  1.27    1.18  "
      ]
     },
     "execution_count": 1,
     "metadata": {},
     "output_type": "execute_result"
    }
   ],
   "source": [
    "#import pandas module\n",
    "import pandas as pd\n",
    "\n",
    "#insert in the csv file into the code\n",
    "csgostats_DF = pd.read_csv(\"player_stats.csv\")\n",
    "\n",
    "#Print the first 10 series of the data file\n",
    "csgostats_DF[:10]\n"
   ]
  },
  {
   "cell_type": "markdown",
   "metadata": {},
   "source": [
    "### Display size of data"
   ]
  },
  {
   "cell_type": "code",
   "execution_count": 2,
   "metadata": {},
   "outputs": [
    {
     "data": {
      "text/plain": [
       "1869"
      ]
     },
     "execution_count": 2,
     "metadata": {},
     "output_type": "execute_result"
    }
   ],
   "source": [
    "# Print the length of the data frame\n",
    "len(csgostats_DF)"
   ]
  },
  {
   "cell_type": "markdown",
   "metadata": {},
   "source": [
    "### Create a numerical pandas series\n",
    "* REMINDER: A panda series is similar to a standard list, but works specifically with pandas list of functions\n",
    "* Locate a numerical column of interest in your pandas data frame\n",
    "* Store all values from that column in an appropriately-named variable\n",
    "* Show the first ten entries\n",
    "    * This is a good way for you to see if your modification was successful and to see what the data looks like"
   ]
  },
  {
   "cell_type": "code",
   "execution_count": 3,
   "metadata": {},
   "outputs": [
    {
     "data": {
      "text/plain": [
       "0    1.38\n",
       "1    1.33\n",
       "2    1.42\n",
       "3    1.37\n",
       "4    1.43\n",
       "5    1.31\n",
       "6    1.32\n",
       "7    1.31\n",
       "8    1.33\n",
       "9    1.27\n",
       "Name: kd, dtype: float64"
      ]
     },
     "execution_count": 3,
     "metadata": {},
     "output_type": "execute_result"
    }
   ],
   "source": [
    "# Store all values from the \"kd\" column\n",
    "kd_list = csgostats_DF[\"kd\"]\n",
    "\n",
    "# Print the first ten entries\n",
    "kd_list[:10]"
   ]
  },
  {
   "cell_type": "markdown",
   "metadata": {},
   "source": [
    "### Convert series data type to floating point numbers\n",
    "* Modify your data appropriately so that your array holds only decimals\n",
    "    * Replace all special characters ('$', '%', '#', etc.)\n",
    "    * Convert all entries to floating point numbers\n",
    "* Show the first 10 entries\n",
    "    * This is a good way for you to see if your modification was successful and to see what the data looks like"
   ]
  },
  {
   "cell_type": "code",
   "execution_count": 4,
   "metadata": {},
   "outputs": [
    {
     "data": {
      "text/plain": [
       "0    1.38\n",
       "1    1.33\n",
       "2    1.42\n",
       "3    1.37\n",
       "4    1.43\n",
       "5    1.31\n",
       "6    1.32\n",
       "7    1.31\n",
       "8    1.33\n",
       "9    1.27\n",
       "Name: kd, dtype: float64"
      ]
     },
     "execution_count": 4,
     "metadata": {},
     "output_type": "execute_result"
    }
   ],
   "source": [
    "# Not needed to remove special characters\n",
    "# Convert to floating point number\n",
    "kd_list = kd_list.astype(float)\n",
    "\n",
    "# Print the first 10 entries\n",
    "kd_list[:10]\n"
   ]
  },
  {
   "cell_type": "markdown",
   "metadata": {},
   "source": [
    "### Convert series to a numpy array, remove 'NaN' entries\n",
    "* Convert your pandas series to a numpy array with an appr\n",
    "* Remove all 'NaN' entries (if applicable)\n",
    "* Show the first 30 entries\n",
    "    * This is a good way for you to see if your modification was successful and to see what the data looks like"
   ]
  },
  {
   "cell_type": "code",
   "execution_count": 5,
   "metadata": {},
   "outputs": [
    {
     "data": {
      "text/plain": [
       "array([1.38, 1.33, 1.42, 1.37, 1.43, 1.31, 1.32, 1.31, 1.33, 1.27, 1.26,\n",
       "       1.26, 1.29, 1.25, 1.22, 1.2 , 1.22, 1.27, 1.24, 1.33, 1.28, 1.26,\n",
       "       1.25, 1.24, 1.2 , 1.3 , 1.22, 1.24, 1.23, 1.27])"
      ]
     },
     "execution_count": 5,
     "metadata": {},
     "output_type": "execute_result"
    }
   ],
   "source": [
    "# Import numpy\n",
    "import numpy as np\n",
    "\n",
    "# Convert data into an numpy array\n",
    "kd_array = np.array(kd_list)\n",
    "\n",
    "# Print out the first 30 entries\n",
    "kd_array[:30]\n"
   ]
  },
  {
   "cell_type": "markdown",
   "metadata": {},
   "source": [
    "### Compute three common statistics\n",
    "* Using your numpy array, calculate various common statistics\n",
    "    * Mean\n",
    "    * Median\n",
    "    * Mode\n",
    "    * Standard deviation\n",
    "    * Sums\n",
    "    * Etc.\n",
    "* Indicate which statistic is being calculated in the markdown cell above the code cell"
   ]
  },
  {
   "cell_type": "markdown",
   "metadata": {},
   "source": [
    "##### Question: What is the average K.D ratio among the professional players?"
   ]
  },
  {
   "cell_type": "code",
   "execution_count": 6,
   "metadata": {},
   "outputs": [
    {
     "data": {
      "text/plain": [
       "0.9967255216693419"
      ]
     },
     "execution_count": 6,
     "metadata": {},
     "output_type": "execute_result"
    }
   ],
   "source": [
    "# this calculates the average (mean)\n",
    "average = np.average(kd_array)\n",
    "average"
   ]
  },
  {
   "cell_type": "markdown",
   "metadata": {},
   "source": [
    "##### Question: What is the median K.D ratio among the professional players?"
   ]
  },
  {
   "cell_type": "code",
   "execution_count": 7,
   "metadata": {},
   "outputs": [
    {
     "data": {
      "text/plain": [
       "0.99"
      ]
     },
     "execution_count": 7,
     "metadata": {},
     "output_type": "execute_result"
    }
   ],
   "source": [
    "# this finds the median value\n",
    "median = np.median(kd_array)\n",
    "median"
   ]
  },
  {
   "cell_type": "markdown",
   "metadata": {},
   "source": [
    "##### Question: What is the standard deviation of K.D ratio among the professional players?"
   ]
  },
  {
   "cell_type": "code",
   "execution_count": 8,
   "metadata": {},
   "outputs": [
    {
     "data": {
      "text/plain": [
       "0.1004882680907169"
      ]
     },
     "execution_count": 8,
     "metadata": {},
     "output_type": "execute_result"
    }
   ],
   "source": [
    "# finds the standard deviation\n",
    "standard_dev = np.std(kd_array)\n",
    "standard_dev"
   ]
  },
  {
   "cell_type": "markdown",
   "metadata": {},
   "source": [
    "# Part 2: Create a Histogram (12 points)\n",
    "* WARNING: DO NOT COPY/PASTE ENTIRE GRAPH CODE ALL AT ONCE\n",
    "    * Use code line-by-line to ensure all values are changed to reflect the ones in this notebook!\n",
    "* REMINDER: Histograms display frequencies of data values grouped together in chosen ranges\n",
    "    * Think - what list is storing the required data?\n",
    "        * Should be a numpy array of numbers\n",
    "    * Think - how will you divide up the data into bins\n",
    "        * What is the minimum value?\n",
    "        * What is the maximum value?\n",
    "        * What should the size of each bin be?\n",
    "            * What numbers should each bin start/stop at?\n",
    "        * Which alignment will you use?     \n",
    "* Create frequency bins\n",
    "* Set graph details\n",
    "* Create and display graph"
   ]
  },
  {
   "cell_type": "markdown",
   "metadata": {},
   "source": [
    "### Create frequency bins and alignment\n",
    "* Create and store a list of 'edge numbers' for your bins in an appropriately-named variable\n",
    "    * Your data should fit between the lowest and highest values\n",
    "    * Use a loop to help create bins quickly"
   ]
  },
  {
   "cell_type": "code",
   "execution_count": 9,
   "metadata": {},
   "outputs": [],
   "source": [
    "# Import matplotlib\n",
    "import matplotlib.pyplot as plot\n",
    "%matplotlib inline\n",
    "\n",
    "# Create the bins array\n",
    "bins = []\n",
    "for i in range(8):\n",
    "    bin = i * .25\n",
    "    bins.append(bin)"
   ]
  },
  {
   "cell_type": "markdown",
   "metadata": {},
   "source": [
    "### Set graph details\n",
    "* Import matplotlib appropriately\n",
    "* Your graph should be styled uniquely compared to any previously created, and must inlude:\n",
    "    * Title\n",
    "    * X-axis label\n",
    "    * Y-axis label\n",
    "    * Visually appealing style\n",
    "    * Graph color not previously used"
   ]
  },
  {
   "cell_type": "markdown",
   "metadata": {},
   "source": [
    "### Create and display graph\n",
    "* HISTOGRAM SYNTAX: plot.hist(data_array, bins_array, extras...)"
   ]
  },
  {
   "cell_type": "code",
   "execution_count": 10,
   "metadata": {},
   "outputs": [
    {
     "data": {
      "text/plain": [
       "<function matplotlib.pyplot.show(*args, **kw)>"
      ]
     },
     "execution_count": 10,
     "metadata": {},
     "output_type": "execute_result"
    },
    {
     "data": {
      "image/png": "[encoded data removed]",
      "text/plain": [
       "<Figure size 432x288 with 1 Axes>"
      ]
     },
     "metadata": {
      "needs_background": "light"
     },
     "output_type": "display_data"
    }
   ],
   "source": [
    "# To earn points, you must comment your code\n",
    "# create title and lables\n",
    "plot.title(\"Professional Counter Strike: Global Offensive player's in-game K.D. ratio\")\n",
    "plot.xlabel(\"K.D.\")\n",
    "plot.ylabel(\"Frequency\")\n",
    "\n",
    "# have the histogram appear\n",
    "plot.hist(kd_array, bins, align = \"left\", color = \"#ffb7c5\", edgecolor=\"black\")\n",
    "plot.show"
   ]
  },
  {
   "cell_type": "markdown",
   "metadata": {},
   "source": [
    "# Part 3: Modifying Data Using Counts (12 points)\n",
    "* Create a pandas series of value counts\n",
    "* Create two parallel lists"
   ]
  },
  {
   "cell_type": "markdown",
   "metadata": {},
   "source": [
    "### Create a pandas series of value counts\n",
    "* Locate a non-numerical column of interest from your original pandas dataframe\n",
    "    * You will be counting how many times each entry appears in the list\n",
    "    * Your chosen column should:\n",
    "        * Have mulptiple repeated entries\n",
    "        * Have the ability to be grouped into categories\n",
    "* Create and store a pandas series of value counts in an appropriately-named variable\n",
    "* Show the series of counts\n",
    "    * This is a good way for you to see if your modification was successful and to see what the data looks like"
   ]
  },
  {
   "cell_type": "code",
   "execution_count": 11,
   "metadata": {},
   "outputs": [
    {
     "data": {
      "text/plain": [
       "United States    204\n",
       "Brazil           138\n",
       "Australia        134\n",
       "Denmark          120\n",
       "Russia           117\n",
       "                ... \n",
       "Greece             1\n",
       "Hong Kong          1\n",
       "Azerbaijan         1\n",
       "Lebanon            1\n",
       "Montenegro         1\n",
       "Name: country, Length: 72, dtype: int64"
      ]
     },
     "execution_count": 11,
     "metadata": {},
     "output_type": "execute_result"
    }
   ],
   "source": [
    "# Import pandas\n",
    "import pandas as pd\n",
    "\n",
    "# Read the csv file (comma seperated values)\n",
    "stats_DF = pd.read_csv(\"player_stats.csv\")\n",
    "\n",
    "# remove any potentially unwanted data from the data set\n",
    "stats_DF = stats_DF.drop(stats_DF.index[-1])\n",
    "\n",
    "# Count the number of entries from each team\n",
    "country_freq = stats_DF[\"country\"].value_counts()\n",
    "country_freq"
   ]
  },
  {
   "cell_type": "markdown",
   "metadata": {},
   "source": [
    "### Create two parallel lists\n",
    "* REMINDERS:\n",
    "    * Use index.tolist() to extract only the category names\n",
    "    * Use tolist() to extract only the statistic of interest\n",
    "* Create a list of the category names from the value count panda series\n",
    "    * Store in an appropriately-named variable\n",
    "    * Ex: [POLICE, FIRE, OEMC, etc...]\n",
    "* Create a list of the frequencies for each entry from the value count panda series\n",
    "    * Store in an appropriately-named variable\n",
    "    * Ex: [13061, 4837, 2120, etc...]\n",
    "* Show each list individually\n",
    "    * This is a good way for you to see if your modifications were successful and to see what the data looks like"
   ]
  },
  {
   "cell_type": "code",
   "execution_count": 12,
   "metadata": {},
   "outputs": [
    {
     "name": "stdout",
     "output_type": "stream",
     "text": [
      "['United States', 'Brazil', 'Australia', 'Denmark', 'Russia', 'Sweden', 'China', 'Poland', 'Canada', 'Germany', 'France', 'Ukraine', 'Finland', 'Bulgaria', 'United Kingdom', 'Argentina', 'Norway', 'Thailand', 'Spain', 'Kazakhstan', 'Portugal', 'Serbia', 'Turkey', 'Hungary', 'Mongolia', 'South Africa', 'Czech Republic', 'Belgium', 'Romania', 'Belarus', 'Slovakia', 'Korea', 'Indonesia', 'Estonia', 'Lithuania', 'New Zealand', 'Philippines', 'Chile', 'Latvia', 'Singapore', 'Netherlands', 'Malaysia', 'Vietnam', 'India', 'Japan', 'Colombia', 'Albania', 'Mexico', 'Israel', 'Peru', 'Uruguay', 'United Arab Emirates', 'Bosnia and Herzegovina', 'Jordan', 'Slovenia', 'Switzerland', 'Macedonia', 'Croatia', 'Guatemala', 'Kyrgyzstan', 'Ireland', 'Taiwan', 'Tunisia', 'Uzbekistan', 'Iraq', 'Italy', 'Austria', 'Greece', 'Hong Kong', 'Azerbaijan', 'Lebanon', 'Montenegro']\n",
      "[204, 138, 134, 120, 117, 115, 81, 76, 66, 57, 55, 50, 43, 35, 33, 30, 29, 26, 24, 24, 23, 20, 20, 20, 19, 18, 17, 16, 16, 16, 15, 14, 13, 13, 13, 13, 11, 11, 10, 10, 10, 8, 7, 6, 6, 5, 5, 5, 5, 5, 4, 4, 4, 3, 3, 3, 2, 2, 2, 2, 1, 1, 1, 1, 1, 1, 1, 1, 1, 1, 1, 1]\n"
     ]
    }
   ],
   "source": [
    "# creates a list containing all the countries players are originating from (some special cases like where theyre currently staying)\n",
    "cs_countryNames = country_freq.index.tolist()\n",
    "# creates a list containing how frequently players are originating from that specific country\n",
    "cs_countryCounts = country_freq.tolist()\n",
    "\n",
    "# print results\n",
    "print(cs_countryNames)\n",
    "print(cs_countryCounts)"
   ]
  },
  {
   "cell_type": "markdown",
   "metadata": {},
   "source": [
    "# Part 4: Create a Pie Chart (12 points)\n",
    "* WARNING: DO NOT COPY/PASTE ENTIRE GRAPH CODE ALL AT ONCE\n",
    "    * Use code line-by-line to ensure all values are changed to reflect the ones in this notebook!\n",
    "* REMINDER: Pie charts display the ratio of values in comparison to the whole\n",
    "    * Think - Which lists are storing the required data?\n",
    "        * One list of counts\n",
    "        * One list of labels\n",
    "* NOTE: If you have 9 or more categories you should create an \"Other\" category to earn full credit!\n",
    "* Create an \"Other\" category (if necessary)\n",
    "* Set graph details\n",
    "* Create and display graph"
   ]
  },
  {
   "cell_type": "markdown",
   "metadata": {},
   "source": [
    "### Create an \"Other\" category (if necessary)\n",
    "* If you have 9 or more categories, lump the remainging categories as one \"Other\" category\n",
    "* All labels should be clearly visible"
   ]
  },
  {
   "cell_type": "code",
   "execution_count": 13,
   "metadata": {},
   "outputs": [
    {
     "name": "stdout",
     "output_type": "stream",
     "text": [
      "['United States', 'Brazil', 'Australia', 'Denmark', 'Russia', 'Sweden', 'China', 'Poland', 'Canada', 'Germany', 'Other']\n",
      "[204, 138, 134, 120, 117, 115, 81, 76, 66, 57, 57]\n"
     ]
    }
   ],
   "source": [
    "# create a new list containing 10 of the largest countries that have players from that region\n",
    "shortened_countries = cs_countryNames[:10]\n",
    "shortened_countries.append(\"Other\")\n",
    "\n",
    "# make a new list of the largest country's counts, add sum of remaining countries\n",
    "shortened_counts = cs_countryCounts [:10]\n",
    "remaining = sum(shortened_counts[9:])\n",
    "shortened_counts.append(remaining)\n",
    "\n",
    "#print the two new lists\n",
    "print(shortened_countries)\n",
    "print(shortened_counts)"
   ]
  },
  {
   "cell_type": "markdown",
   "metadata": {},
   "source": [
    "### Set graph details\n",
    "* Import matplotlib appropriately\n",
    "* Your graph should be styled uniquely compared to any previously created, and must inlude:\n",
    "    * Title\n",
    "    * Appropriate labels\n",
    "    * Visually appealing style\n",
    "    * Graph color not previously used"
   ]
  },
  {
   "cell_type": "code",
   "execution_count": 14,
   "metadata": {},
   "outputs": [],
   "source": [
    "# To earn points, you must comment your code\n",
    "# Import matplotlib\n",
    "import matplotlib.pyplot as plot\n",
    "%matplotlib inline\n",
    "\n",
    "# Create the labels and data array\n",
    "labels = shortened_countries\n",
    "data = shortened_counts\n",
    "colors_array = [\"lightblue\", \"red\", \"brown\", \"orange\", \"blue\", \"green\", \"yellow\", \"pink\", \"lightgreen\", \"cyan\", \"lightgray\"]"
   ]
  },
  {
   "cell_type": "markdown",
   "metadata": {},
   "source": [
    "### Create and display graph\n",
    "* PIE CHART SYNTAX: plot.pie(counts_list, labels_list, extras...)"
   ]
  },
  {
   "cell_type": "code",
   "execution_count": 15,
   "metadata": {},
   "outputs": [
    {
     "data": {
      "text/plain": [
       "<function matplotlib.pyplot.show(*args, **kw)>"
      ]
     },
     "execution_count": 15,
     "metadata": {},
     "output_type": "execute_result"
    },
    {
     "data": {
      "image/png": "[encoded data removed]",
      "text/plain": [
       "<Figure size 432x288 with 1 Axes>"
      ]
     },
     "metadata": {},
     "output_type": "display_data"
    }
   ],
   "source": [
    "# Graph the pie chart and it's details\n",
    "plot.pie(data, labels=labels, colors = colors_array, autopct = \"%1.1f%%\", shadow = True,)\n",
    "plot.title(\"Player by Countries\", loc=\"left\")\n",
    "plot.axis(\"equal\")\n",
    "plot.show"
   ]
  },
  {
   "cell_type": "markdown",
   "metadata": {},
   "source": [
    "# Part 5: Be a Data Scientist! (24 points)\n",
    "* Create an additional question\n",
    "* Create an appropriate pandas series\n",
    "* Split into individual lists\n",
    "* Create list of sorted tuples\n",
    "* Split into individual sorted lists"
   ]
  },
  {
   "cell_type": "markdown",
   "metadata": {},
   "source": [
    "### Create an additional question\n",
    "* How else can your categories be compared?\n",
    "* What additional number can your categories be compared by?\n",
    "    * Ex: Which category has largest/smallest...\n",
    "        * ...average?\n",
    "        * ...maximum?\n",
    "        * ...minimum?\n",
    "        * ...standard deviation?\n",
    "* State your question relative to the data you are working with"
   ]
  },
  {
   "cell_type": "markdown",
   "metadata": {},
   "source": [
    "## Question: What is the mean (average) HLTV rating in each country in the game: Counter Strike: Global Offensive?"
   ]
  },
  {
   "cell_type": "code",
   "execution_count": 25,
   "metadata": {},
   "outputs": [
    {
     "data": {
      "text/plain": [
       "country\n",
       "Albania           0.990000\n",
       "Argentina         0.990667\n",
       "Australia         0.980896\n",
       "Austria           0.990000\n",
       "Azerbaijan        0.920000\n",
       "                    ...   \n",
       "United Kingdom    0.963030\n",
       "United States     0.980931\n",
       "Uruguay           1.005000\n",
       "Uzbekistan        0.920000\n",
       "Vietnam           0.970000\n",
       "Name: rating, Length: 72, dtype: float64"
      ]
     },
     "execution_count": 25,
     "metadata": {},
     "output_type": "execute_result"
    }
   ],
   "source": [
    "# Group each department\n",
    "country_rating_avg = csgostats_DF[\"rating\"].groupby(csgostats_DF[\"country\"]).mean()\n",
    "country_rating_avg"
   ]
  },
  {
   "cell_type": "markdown",
   "metadata": {},
   "source": [
    "### Split into individual lists\n",
    "* Create two parallel lists \n",
    "    * One list of categories\n",
    "    * One list of statistics of interest\n",
    "* Show each list individually\n",
    "    * This is a good way for you to see if your modifications were successful and to see what the data looks like"
   ]
  },
  {
   "cell_type": "code",
   "execution_count": 27,
   "metadata": {},
   "outputs": [
    {
     "name": "stdout",
     "output_type": "stream",
     "text": [
      "['Albania', 'Argentina', 'Australia', 'Austria', 'Azerbaijan', 'Belarus', 'Belgium', 'Bosnia and Herzegovina', 'Brazil', 'Bulgaria', 'Canada', 'Chile', 'China', 'Colombia', 'Croatia', 'Czech Republic', 'Denmark', 'Estonia', 'Finland', 'France', 'Germany', 'Greece', 'Guatemala', 'Hong Kong', 'Hungary', 'India', 'Indonesia', 'Iraq', 'Ireland', 'Israel', 'Italy', 'Japan', 'Jordan', 'Kazakhstan', 'Korea', 'Kyrgyzstan', 'Latvia', 'Lebanon', 'Lithuania', 'Macedonia', 'Malaysia', 'Mexico', 'Mongolia', 'Montenegro', 'Netherlands', 'New Zealand', 'Norway', 'Peru', 'Philippines', 'Poland', 'Portugal', 'Romania', 'Russia', 'Serbia', 'Singapore', 'Slovakia', 'Slovenia', 'South Africa', 'Spain', 'Sweden', 'Switzerland', 'Taiwan', 'Thailand', 'Tunisia', 'Turkey', 'Ukraine', 'United Arab Emirates', 'United Kingdom', 'United States', 'Uruguay', 'Uzbekistan', 'Vietnam']\n",
      "[0.9899999999999999, 0.9906666666666669, 0.9808955223880597, 0.99, 0.92, 0.974375, 0.9787500000000001, 1.015, 0.9918115942028992, 0.9820000000000001, 0.9724242424242425, 1.020909090909091, 0.9848148148148148, 1.01, 1.0, 1.0094117647058827, 0.9844999999999999, 0.9976923076923078, 0.983953488372093, 0.9774545454545455, 0.9745614035087719, 0.9, 1.0, 1.12, 0.9569999999999999, 1.0366666666666668, 0.9815384615384615, 0.95, 0.95, 1.0580000000000003, 0.92, 0.9833333333333333, 1.0066666666666666, 0.98375, 1.020714285714286, 1.0050000000000001, 1.032, 0.98, 1.0046153846153847, 0.98, 1.0050000000000001, 0.9620000000000001, 1.0031578947368422, 1.05, 1.0109999999999997, 1.0438461538461536, 0.9741379310344829, 1.03, 1.0172727272727276, 0.9840789473684218, 0.9626086956521741, 0.993125, 0.9845762711864408, 0.9675, 0.9909999999999999, 0.9746666666666667, 0.9433333333333334, 1.0216666666666667, 0.9750000000000001, 0.9880000000000005, 0.9466666666666667, 0.98, 1.0023076923076921, 1.09, 1.0110000000000001, 0.9829999999999997, 0.9950000000000001, 0.9630303030303029, 0.9809313725490196, 1.005, 0.92, 0.9700000000000001]\n"
     ]
    }
   ],
   "source": [
    "# Array of countries of originality sorted by the average rating\n",
    "country_names_avg = country_rating_avg.index.tolist()\n",
    "\n",
    "# Array of ratings sorted by countries or orginality\n",
    "rating_avg = country_rating_avg.tolist()\n",
    "\n",
    "print(country_names_avg)\n",
    "print(rating_avg)"
   ]
  },
  {
   "cell_type": "markdown",
   "metadata": {},
   "source": [
    "### Create list of sorted tuples\n",
    "* Loop through parallel lists to create tuples in the form (category, statistic)\n",
    "* Sort appropriately\n",
    "    * REMINDER: Use list_name.sort(key=lambda x: x[1], reverse=True) to sort\n",
    "* Show the list\n",
    "    * This is a good way for you to see if your modifications were successful and to see what the data looks like"
   ]
  },
  {
   "cell_type": "code",
   "execution_count": 28,
   "metadata": {},
   "outputs": [
    {
     "data": {
      "text/plain": [
       "[('Hong Kong', 1.12),\n",
       " ('Tunisia', 1.09),\n",
       " ('Israel', 1.0580000000000003),\n",
       " ('Montenegro', 1.05),\n",
       " ('New Zealand', 1.0438461538461536),\n",
       " ('India', 1.0366666666666668),\n",
       " ('Latvia', 1.032),\n",
       " ('Peru', 1.03),\n",
       " ('South Africa', 1.0216666666666667),\n",
       " ('Chile', 1.020909090909091),\n",
       " ('Korea', 1.020714285714286),\n",
       " ('Philippines', 1.0172727272727276),\n",
       " ('Bosnia and Herzegovina', 1.015),\n",
       " ('Turkey', 1.0110000000000001),\n",
       " ('Netherlands', 1.0109999999999997),\n",
       " ('Colombia', 1.01),\n",
       " ('Czech Republic', 1.0094117647058827),\n",
       " ('Jordan', 1.0066666666666666),\n",
       " ('Kyrgyzstan', 1.0050000000000001),\n",
       " ('Malaysia', 1.0050000000000001),\n",
       " ('Uruguay', 1.005),\n",
       " ('Lithuania', 1.0046153846153847),\n",
       " ('Mongolia', 1.0031578947368422),\n",
       " ('Thailand', 1.0023076923076921),\n",
       " ('Croatia', 1.0),\n",
       " ('Guatemala', 1.0),\n",
       " ('Estonia', 0.9976923076923078),\n",
       " ('United Arab Emirates', 0.9950000000000001),\n",
       " ('Romania', 0.993125),\n",
       " ('Brazil', 0.9918115942028992),\n",
       " ('Singapore', 0.9909999999999999),\n",
       " ('Argentina', 0.9906666666666669),\n",
       " ('Austria', 0.99),\n",
       " ('Albania', 0.9899999999999999),\n",
       " ('Sweden', 0.9880000000000005),\n",
       " ('China', 0.9848148148148148),\n",
       " ('Russia', 0.9845762711864408),\n",
       " ('Denmark', 0.9844999999999999),\n",
       " ('Poland', 0.9840789473684218),\n",
       " ('Finland', 0.983953488372093),\n",
       " ('Kazakhstan', 0.98375),\n",
       " ('Japan', 0.9833333333333333),\n",
       " ('Ukraine', 0.9829999999999997),\n",
       " ('Bulgaria', 0.9820000000000001),\n",
       " ('Indonesia', 0.9815384615384615),\n",
       " ('United States', 0.9809313725490196),\n",
       " ('Australia', 0.9808955223880597),\n",
       " ('Lebanon', 0.98),\n",
       " ('Macedonia', 0.98),\n",
       " ('Taiwan', 0.98),\n",
       " ('Belgium', 0.9787500000000001),\n",
       " ('France', 0.9774545454545455),\n",
       " ('Spain', 0.9750000000000001),\n",
       " ('Slovakia', 0.9746666666666667),\n",
       " ('Germany', 0.9745614035087719),\n",
       " ('Belarus', 0.974375),\n",
       " ('Norway', 0.9741379310344829),\n",
       " ('Canada', 0.9724242424242425),\n",
       " ('Vietnam', 0.9700000000000001),\n",
       " ('Serbia', 0.9675),\n",
       " ('United Kingdom', 0.9630303030303029),\n",
       " ('Portugal', 0.9626086956521741),\n",
       " ('Mexico', 0.9620000000000001),\n",
       " ('Hungary', 0.9569999999999999),\n",
       " ('Iraq', 0.95),\n",
       " ('Ireland', 0.95),\n",
       " ('Switzerland', 0.9466666666666667),\n",
       " ('Slovenia', 0.9433333333333334),\n",
       " ('Azerbaijan', 0.92),\n",
       " ('Italy', 0.92),\n",
       " ('Uzbekistan', 0.92),\n",
       " ('Greece', 0.9)]"
      ]
     },
     "execution_count": 28,
     "metadata": {},
     "output_type": "execute_result"
    }
   ],
   "source": [
    "# List of tuples in the form (country, average ratings)\n",
    "sorted_average_list = []\n",
    "\n",
    "for i in range(len(country_names_avg)):\n",
    "    sorted_average_list.append((country_names_avg[i], rating_avg[i]))\n",
    "    \n",
    "# Sort the list in reverse \n",
    "sorted_average_list.sort(key = lambda x: x[1], reverse=True)\n",
    "\n",
    "# Print result\n",
    "sorted_average_list"
   ]
  },
  {
   "cell_type": "markdown",
   "metadata": {},
   "source": [
    "### Split into individual sorted lists\n",
    "* Option #1\n",
    "    * List iterator\n",
    "    * list_name = ['specific stat' for 'entry' in 'name of array']\n",
    "    * Read as: A list of every 'specific stat' for every 'entry' in the array 'name of array'\n",
    "* Option #2\n",
    "    * Loops\n",
    "    * Create an empty list\n",
    "    * Run a loop that:\n",
    "        * Stores each appropriate category and statistic\n",
    "        * Converts them to a tuple\n",
    "        * Adds the tuple to the list\n",
    "* Show the list\n",
    "    * This is a good way for you to see if your modifications were successful and to see what the data looks like"
   ]
  },
  {
   "cell_type": "code",
   "execution_count": 30,
   "metadata": {},
   "outputs": [
    {
     "name": "stdout",
     "output_type": "stream",
     "text": [
      "['Hong Kong', 'Tunisia', 'Israel', 'Montenegro', 'New Zealand', 'India', 'Latvia', 'Peru', 'South Africa', 'Chile', 'Korea', 'Philippines', 'Bosnia and Herzegovina', 'Turkey', 'Netherlands', 'Colombia', 'Czech Republic', 'Jordan', 'Kyrgyzstan', 'Malaysia', 'Uruguay', 'Lithuania', 'Mongolia', 'Thailand', 'Croatia', 'Guatemala', 'Estonia', 'United Arab Emirates', 'Romania', 'Brazil', 'Singapore', 'Argentina', 'Austria', 'Albania', 'Sweden', 'China', 'Russia', 'Denmark', 'Poland', 'Finland', 'Kazakhstan', 'Japan', 'Ukraine', 'Bulgaria', 'Indonesia', 'United States', 'Australia', 'Lebanon', 'Macedonia', 'Taiwan', 'Belgium', 'France', 'Spain', 'Slovakia', 'Germany', 'Belarus', 'Norway', 'Canada', 'Vietnam', 'Serbia', 'United Kingdom', 'Portugal', 'Mexico', 'Hungary', 'Iraq', 'Ireland', 'Switzerland', 'Slovenia', 'Azerbaijan', 'Italy', 'Uzbekistan', 'Greece']\n",
      "[1.12, 1.09, 1.0580000000000003, 1.05, 1.0438461538461536, 1.0366666666666668, 1.032, 1.03, 1.0216666666666667, 1.020909090909091, 1.020714285714286, 1.0172727272727276, 1.015, 1.0110000000000001, 1.0109999999999997, 1.01, 1.0094117647058827, 1.0066666666666666, 1.0050000000000001, 1.0050000000000001, 1.005, 1.0046153846153847, 1.0031578947368422, 1.0023076923076921, 1.0, 1.0, 0.9976923076923078, 0.9950000000000001, 0.993125, 0.9918115942028992, 0.9909999999999999, 0.9906666666666669, 0.99, 0.9899999999999999, 0.9880000000000005, 0.9848148148148148, 0.9845762711864408, 0.9844999999999999, 0.9840789473684218, 0.983953488372093, 0.98375, 0.9833333333333333, 0.9829999999999997, 0.9820000000000001, 0.9815384615384615, 0.9809313725490196, 0.9808955223880597, 0.98, 0.98, 0.98, 0.9787500000000001, 0.9774545454545455, 0.9750000000000001, 0.9746666666666667, 0.9745614035087719, 0.974375, 0.9741379310344829, 0.9724242424242425, 0.9700000000000001, 0.9675, 0.9630303030303029, 0.9626086956521741, 0.9620000000000001, 0.9569999999999999, 0.95, 0.95, 0.9466666666666667, 0.9433333333333334, 0.92, 0.92, 0.92, 0.9]\n"
     ]
    }
   ],
   "source": [
    "# This creates new list of sorted countries and their average hltv ratings\n",
    "x_data = [tuple[0] for tuple in sorted_average_list]\n",
    "y_data = [tuple[1] for tuple in sorted_average_list]\n",
    "print(x_data)\n",
    "print(y_data)"
   ]
  },
  {
   "cell_type": "markdown",
   "metadata": {},
   "source": [
    "# Part 6: Create a Bar Chart to Visualize Data (12 points)\n",
    "* WARNING: DO NOT COPY/PASTE ENTIRE GRAPH CODE ALL AT ONCE\n",
    "    * Use code line-by-line to ensure all values are changed to reflect the ones in this notebook!\n",
    "* REMINDER: Bar charts displays one item's value compared to others'\n",
    "    * Think - which lists are holding the required data?\n",
    "        * One list of 'bar positions'\n",
    "        * One list of statistics of interest\n",
    "        * One list of labels\n",
    "* Create a 'bar position list'\n",
    "* Set graph details\n",
    "* Create and display graph"
   ]
  },
  {
   "cell_type": "markdown",
   "metadata": {},
   "source": [
    "### Create a 'bar position list'\n",
    "* REMINDER: Use np.arange(start, length+1)"
   ]
  },
  {
   "cell_type": "code",
   "execution_count": 20,
   "metadata": {},
   "outputs": [],
   "source": [
    "# To earn points, you must comment your code\n"
   ]
  },
  {
   "cell_type": "markdown",
   "metadata": {},
   "source": [
    "## Set graph details\n",
    "* Import matplotlib appropriately\n",
    "* Your graph should be styled uniquely compared to any previously created, and must inlude:\n",
    "    * Title\n",
    "    * X-axis label\n",
    "    * Y-axis label\n",
    "    * Bar labels (xticks)\n",
    "    * Visually appealing style\n",
    "    * Graph color not previously used"
   ]
  },
  {
   "cell_type": "code",
   "execution_count": 21,
   "metadata": {},
   "outputs": [],
   "source": [
    "# To earn points, you must comment your code\n"
   ]
  },
  {
   "cell_type": "markdown",
   "metadata": {},
   "source": [
    "### Create and display graph\n",
    "* BAR GRAPH SYNTAX: plot.bar(bars_list, stat_list, etc.)"
   ]
  },
  {
   "cell_type": "code",
   "execution_count": 22,
   "metadata": {},
   "outputs": [],
   "source": [
    "# To earn points, you must comment your code\n"
   ]
  },
  {
   "cell_type": "markdown",
   "metadata": {},
   "source": [
    "# Part 7: Answer (12 points)"
   ]
  },
  {
   "cell_type": "markdown",
   "metadata": {},
   "source": [
    "### Answer the original question at hand\n",
    "* Your response must:\n",
    "    * Clearly state a data-based answer\n",
    "    * Contain a brief summary of how the data was organized and compared\n",
    "    * Describe how your visualization helps verify the stated answer"
   ]
  },
  {
   "cell_type": "markdown",
   "metadata": {},
   "source": [
    "## Answer: INSERT YOUR ANSWER HERE. WRITE IN COMPLETE SENTENCES."
   ]
  },
  {
   "cell_type": "markdown",
   "metadata": {},
   "source": [
    "# Part 8: Reflection (4 points)"
   ]
  },
  {
   "cell_type": "markdown",
   "metadata": {},
   "source": [
    "### What do you think are some of the limitations of your analysis?\n",
    "* Was there additional data that you would've liked to have used if it were available?\n",
    "* Did time limit you from answering a different interesting question?\n",
    "* Is there anything you would have liked to have dug into deeper?\n",
    "* Provide a thoughtful, well-written response"
   ]
  },
  {
   "cell_type": "markdown",
   "metadata": {
    "collapsed": true
   },
   "source": [
    "## Answer: INSERT YOUR ANSWER HERE. WRITE IN COMPLETE SENTENCES."
   ]
  },
  {
   "cell_type": "code",
   "execution_count": null,
   "metadata": {},
   "outputs": [],
   "source": []
  }
 ],
 "metadata": {
  "kernelspec": {
   "display_name": "Python 3",
   "language": "python",
   "name": "python3"
  },
  "language_info": {
   "codemirror_mode": {
    "name": "ipython",
    "version": 3
   },
   "file_extension": ".py",
   "mimetype": "text/x-python",
   "name": "python",
   "nbconvert_exporter": "python",
   "pygments_lexer": "ipython3",
   "version": "3.7.4"
  }
 },
 "nbformat": 4,
 "nbformat_minor": 1
}
